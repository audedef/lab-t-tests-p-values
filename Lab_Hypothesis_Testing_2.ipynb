{
 "cells": [
  {
   "cell_type": "markdown",
   "id": "5814cd54",
   "metadata": {},
   "source": [
    "# One tailed t-test"
   ]
  },
  {
   "cell_type": "markdown",
   "id": "3a75a303",
   "metadata": {},
   "source": [
    "H0 = \"avg_speed(new machine) > avg_speed(old machine)\" --> one-sided test & the two samples are independent"
   ]
  },
  {
   "cell_type": "code",
   "execution_count": 11,
   "id": "22e36fab",
   "metadata": {},
   "outputs": [],
   "source": [
    "import pandas as pd\n",
    "import numpy as np\n",
    "import scipy.stats as st\n",
    "import matplotlib.pyplot as plt\n",
    "import seaborn as sns"
   ]
  },
  {
   "cell_type": "code",
   "execution_count": 66,
   "id": "4dbdfbf6",
   "metadata": {},
   "outputs": [],
   "source": [
    "#data = pd.read_csv('machine.txt', sep = ' ', encoding = 'utf-8')\n",
    "data = pd.read_csv('files_for_lab/machine.txt', encoding='UTF-16' , sep = '\\t')"
   ]
  },
  {
   "cell_type": "code",
   "execution_count": 67,
   "id": "b4f1e546",
   "metadata": {},
   "outputs": [
    {
     "data": {
      "text/html": [
       "<div>\n",
       "<style scoped>\n",
       "    .dataframe tbody tr th:only-of-type {\n",
       "        vertical-align: middle;\n",
       "    }\n",
       "\n",
       "    .dataframe tbody tr th {\n",
       "        vertical-align: top;\n",
       "    }\n",
       "\n",
       "    .dataframe thead th {\n",
       "        text-align: right;\n",
       "    }\n",
       "</style>\n",
       "<table border=\"1\" class=\"dataframe\">\n",
       "  <thead>\n",
       "    <tr style=\"text-align: right;\">\n",
       "      <th></th>\n",
       "      <th>New machine</th>\n",
       "      <th>Old machine</th>\n",
       "    </tr>\n",
       "  </thead>\n",
       "  <tbody>\n",
       "    <tr>\n",
       "      <th>0</th>\n",
       "      <td>42.1</td>\n",
       "      <td>42.7</td>\n",
       "    </tr>\n",
       "    <tr>\n",
       "      <th>1</th>\n",
       "      <td>41.0</td>\n",
       "      <td>43.6</td>\n",
       "    </tr>\n",
       "    <tr>\n",
       "      <th>2</th>\n",
       "      <td>41.3</td>\n",
       "      <td>43.8</td>\n",
       "    </tr>\n",
       "    <tr>\n",
       "      <th>3</th>\n",
       "      <td>41.8</td>\n",
       "      <td>43.3</td>\n",
       "    </tr>\n",
       "    <tr>\n",
       "      <th>4</th>\n",
       "      <td>42.4</td>\n",
       "      <td>42.5</td>\n",
       "    </tr>\n",
       "    <tr>\n",
       "      <th>5</th>\n",
       "      <td>42.8</td>\n",
       "      <td>43.5</td>\n",
       "    </tr>\n",
       "    <tr>\n",
       "      <th>6</th>\n",
       "      <td>43.2</td>\n",
       "      <td>43.1</td>\n",
       "    </tr>\n",
       "    <tr>\n",
       "      <th>7</th>\n",
       "      <td>42.3</td>\n",
       "      <td>41.7</td>\n",
       "    </tr>\n",
       "    <tr>\n",
       "      <th>8</th>\n",
       "      <td>41.8</td>\n",
       "      <td>44.0</td>\n",
       "    </tr>\n",
       "    <tr>\n",
       "      <th>9</th>\n",
       "      <td>42.7</td>\n",
       "      <td>44.1</td>\n",
       "    </tr>\n",
       "  </tbody>\n",
       "</table>\n",
       "</div>"
      ],
      "text/plain": [
       "   New machine      Old machine\n",
       "0         42.1             42.7\n",
       "1         41.0             43.6\n",
       "2         41.3             43.8\n",
       "3         41.8             43.3\n",
       "4         42.4             42.5\n",
       "5         42.8             43.5\n",
       "6         43.2             43.1\n",
       "7         42.3             41.7\n",
       "8         41.8             44.0\n",
       "9         42.7             44.1"
      ]
     },
     "execution_count": 67,
     "metadata": {},
     "output_type": "execute_result"
    }
   ],
   "source": [
    "data"
   ]
  },
  {
   "cell_type": "code",
   "execution_count": 71,
   "id": "87107d85",
   "metadata": {},
   "outputs": [
    {
     "data": {
      "text/plain": [
       "Index(['New machine', '    Old machine'], dtype='object')"
      ]
     },
     "execution_count": 71,
     "metadata": {},
     "output_type": "execute_result"
    }
   ],
   "source": [
    "data.columns"
   ]
  },
  {
   "cell_type": "code",
   "execution_count": 78,
   "id": "6bf2dfda",
   "metadata": {},
   "outputs": [],
   "source": [
    "sample1 = data['    Old machine']\n",
    "sample2 = data['New machine']"
   ]
  },
  {
   "cell_type": "code",
   "execution_count": 79,
   "id": "a5049c31",
   "metadata": {},
   "outputs": [
    {
     "name": "stdout",
     "output_type": "stream",
     "text": [
      "the mean with the old machine : 43.230000000000004\n",
      "the mean with the new machine : 42.14\n"
     ]
    }
   ],
   "source": [
    "# computing mean for both sample :\n",
    "# old machine :\n",
    "\n",
    "print('the mean with the old machine :', sample1.mean())\n",
    "print('the mean with the new machine :', sample2.mean())\n",
    "\n",
    "# it seems the hypothesis is false"
   ]
  },
  {
   "cell_type": "code",
   "execution_count": 80,
   "id": "53f20ed1",
   "metadata": {},
   "outputs": [
    {
     "name": "stdout",
     "output_type": "stream",
     "text": [
      "the std with the old machine : 0.7498888806572157\n",
      "the std with the new machine : 0.6834552736727638\n"
     ]
    }
   ],
   "source": [
    "# same with standard dev :\n",
    "\n",
    "print('the std with the old machine :', sample1.std(ddof=1))\n",
    "print('the std with the new machine :', sample2.std(ddof=1))"
   ]
  },
  {
   "cell_type": "markdown",
   "id": "dfe28844",
   "metadata": {},
   "source": [
    "It seems that the old machine is faster (higher speed in average) but less stable (higher variance)...\n",
    "Let's compute the p-value :"
   ]
  },
  {
   "cell_type": "code",
   "execution_count": 81,
   "id": "ef719f9c",
   "metadata": {},
   "outputs": [
    {
     "name": "stdout",
     "output_type": "stream",
     "text": [
      "The ratio of the sample variances is 1.10 which is bigger than 0.5 and smaller than 2\n",
      "The t statistic is: 0.26\n"
     ]
    }
   ],
   "source": [
    "sp = ( len(sample1) - 1 ) * (sample1.std(ddof=1)**2 ) +  ( len(sample2) - 1 ) * (sample2.std(ddof=1)**2 )\n",
    "r = np.sqrt( (1/len(sample1)) + (1/len(sample2)) )\n",
    "t = ( sample1.mean() - sample2.mean() )/ (sp * r)\n",
    "\n",
    "print(\"The ratio of the sample variances is {:.2f} which is bigger than 0.5 and smaller than 2\".format(sample1.std(ddof=1)/sample2.std(ddof=1)))\n",
    "print(\"The t statistic is: {:.2f}\".format(t))"
   ]
  },
  {
   "cell_type": "code",
   "execution_count": 87,
   "id": "ef3d931e",
   "metadata": {},
   "outputs": [
    {
     "data": {
      "text/plain": [
       "1.7340636066175354"
      ]
     },
     "execution_count": 87,
     "metadata": {},
     "output_type": "execute_result"
    }
   ],
   "source": [
    "# Computing now the critical value to check if we reject or accept H0 :\n",
    "df = len(sample1) + len(sample2) - 2\n",
    "st.t.ppf(0.95, df)"
   ]
  },
  {
   "cell_type": "markdown",
   "id": "01c606d3",
   "metadata": {},
   "source": [
    "-1.73 < -0.26, we accept H0 !"
   ]
  },
  {
   "cell_type": "code",
   "execution_count": 83,
   "id": "9668ef16",
   "metadata": {},
   "outputs": [
    {
     "data": {
      "text/plain": [
       "0.6022566611605088"
      ]
     },
     "execution_count": 83,
     "metadata": {},
     "output_type": "execute_result"
    }
   ],
   "source": [
    "# Validating with p-value :\n",
    "st.t.cdf(t, df)"
   ]
  },
  {
   "cell_type": "markdown",
   "id": "4f8d2c27",
   "metadata": {},
   "source": [
    "0.95 > p-value > 0.025, so we accept H0"
   ]
  },
  {
   "cell_type": "markdown",
   "id": "4f3390b9",
   "metadata": {},
   "source": [
    "# Matched Pairs Test"
   ]
  },
  {
   "cell_type": "code",
   "execution_count": 29,
   "id": "0caf7397",
   "metadata": {},
   "outputs": [],
   "source": [
    "pokemon = pd.read_csv('files_for_lab/pokemon.csv')"
   ]
  },
  {
   "cell_type": "code",
   "execution_count": 30,
   "id": "19d42ff8",
   "metadata": {},
   "outputs": [
    {
     "data": {
      "text/html": [
       "<div>\n",
       "<style scoped>\n",
       "    .dataframe tbody tr th:only-of-type {\n",
       "        vertical-align: middle;\n",
       "    }\n",
       "\n",
       "    .dataframe tbody tr th {\n",
       "        vertical-align: top;\n",
       "    }\n",
       "\n",
       "    .dataframe thead th {\n",
       "        text-align: right;\n",
       "    }\n",
       "</style>\n",
       "<table border=\"1\" class=\"dataframe\">\n",
       "  <thead>\n",
       "    <tr style=\"text-align: right;\">\n",
       "      <th></th>\n",
       "      <th>#</th>\n",
       "      <th>Name</th>\n",
       "      <th>Type 1</th>\n",
       "      <th>Type 2</th>\n",
       "      <th>Total</th>\n",
       "      <th>HP</th>\n",
       "      <th>Attack</th>\n",
       "      <th>Defense</th>\n",
       "      <th>Sp. Atk</th>\n",
       "      <th>Sp. Def</th>\n",
       "      <th>Speed</th>\n",
       "      <th>Generation</th>\n",
       "      <th>Legendary</th>\n",
       "    </tr>\n",
       "  </thead>\n",
       "  <tbody>\n",
       "    <tr>\n",
       "      <th>0</th>\n",
       "      <td>1</td>\n",
       "      <td>Bulbasaur</td>\n",
       "      <td>Grass</td>\n",
       "      <td>Poison</td>\n",
       "      <td>318</td>\n",
       "      <td>45</td>\n",
       "      <td>49</td>\n",
       "      <td>49</td>\n",
       "      <td>65</td>\n",
       "      <td>65</td>\n",
       "      <td>45</td>\n",
       "      <td>1</td>\n",
       "      <td>False</td>\n",
       "    </tr>\n",
       "    <tr>\n",
       "      <th>1</th>\n",
       "      <td>2</td>\n",
       "      <td>Ivysaur</td>\n",
       "      <td>Grass</td>\n",
       "      <td>Poison</td>\n",
       "      <td>405</td>\n",
       "      <td>60</td>\n",
       "      <td>62</td>\n",
       "      <td>63</td>\n",
       "      <td>80</td>\n",
       "      <td>80</td>\n",
       "      <td>60</td>\n",
       "      <td>1</td>\n",
       "      <td>False</td>\n",
       "    </tr>\n",
       "    <tr>\n",
       "      <th>2</th>\n",
       "      <td>3</td>\n",
       "      <td>Venusaur</td>\n",
       "      <td>Grass</td>\n",
       "      <td>Poison</td>\n",
       "      <td>525</td>\n",
       "      <td>80</td>\n",
       "      <td>82</td>\n",
       "      <td>83</td>\n",
       "      <td>100</td>\n",
       "      <td>100</td>\n",
       "      <td>80</td>\n",
       "      <td>1</td>\n",
       "      <td>False</td>\n",
       "    </tr>\n",
       "    <tr>\n",
       "      <th>3</th>\n",
       "      <td>3</td>\n",
       "      <td>VenusaurMega Venusaur</td>\n",
       "      <td>Grass</td>\n",
       "      <td>Poison</td>\n",
       "      <td>625</td>\n",
       "      <td>80</td>\n",
       "      <td>100</td>\n",
       "      <td>123</td>\n",
       "      <td>122</td>\n",
       "      <td>120</td>\n",
       "      <td>80</td>\n",
       "      <td>1</td>\n",
       "      <td>False</td>\n",
       "    </tr>\n",
       "    <tr>\n",
       "      <th>4</th>\n",
       "      <td>4</td>\n",
       "      <td>Charmander</td>\n",
       "      <td>Fire</td>\n",
       "      <td>NaN</td>\n",
       "      <td>309</td>\n",
       "      <td>39</td>\n",
       "      <td>52</td>\n",
       "      <td>43</td>\n",
       "      <td>60</td>\n",
       "      <td>50</td>\n",
       "      <td>65</td>\n",
       "      <td>1</td>\n",
       "      <td>False</td>\n",
       "    </tr>\n",
       "  </tbody>\n",
       "</table>\n",
       "</div>"
      ],
      "text/plain": [
       "   #                   Name Type 1  Type 2  Total  HP  Attack  Defense  \\\n",
       "0  1              Bulbasaur  Grass  Poison    318  45      49       49   \n",
       "1  2                Ivysaur  Grass  Poison    405  60      62       63   \n",
       "2  3               Venusaur  Grass  Poison    525  80      82       83   \n",
       "3  3  VenusaurMega Venusaur  Grass  Poison    625  80     100      123   \n",
       "4  4             Charmander   Fire     NaN    309  39      52       43   \n",
       "\n",
       "   Sp. Atk  Sp. Def  Speed  Generation  Legendary  \n",
       "0       65       65     45           1      False  \n",
       "1       80       80     60           1      False  \n",
       "2      100      100     80           1      False  \n",
       "3      122      120     80           1      False  \n",
       "4       60       50     65           1      False  "
      ]
     },
     "execution_count": 30,
     "metadata": {},
     "output_type": "execute_result"
    }
   ],
   "source": [
    "pokemon.head()"
   ]
  },
  {
   "cell_type": "markdown",
   "id": "9642154c",
   "metadata": {},
   "source": [
    "H0 : defense score = attack score // H1 : defense score != attack score\n",
    "--> two-sided test & dependent samples"
   ]
  },
  {
   "cell_type": "code",
   "execution_count": 31,
   "id": "c17a5202",
   "metadata": {},
   "outputs": [
    {
     "data": {
      "text/html": [
       "<div>\n",
       "<style scoped>\n",
       "    .dataframe tbody tr th:only-of-type {\n",
       "        vertical-align: middle;\n",
       "    }\n",
       "\n",
       "    .dataframe tbody tr th {\n",
       "        vertical-align: top;\n",
       "    }\n",
       "\n",
       "    .dataframe thead th {\n",
       "        text-align: right;\n",
       "    }\n",
       "</style>\n",
       "<table border=\"1\" class=\"dataframe\">\n",
       "  <thead>\n",
       "    <tr style=\"text-align: right;\">\n",
       "      <th></th>\n",
       "      <th>Attack</th>\n",
       "      <th>Defense</th>\n",
       "    </tr>\n",
       "  </thead>\n",
       "  <tbody>\n",
       "    <tr>\n",
       "      <th>0</th>\n",
       "      <td>49</td>\n",
       "      <td>49</td>\n",
       "    </tr>\n",
       "    <tr>\n",
       "      <th>1</th>\n",
       "      <td>62</td>\n",
       "      <td>63</td>\n",
       "    </tr>\n",
       "    <tr>\n",
       "      <th>2</th>\n",
       "      <td>82</td>\n",
       "      <td>83</td>\n",
       "    </tr>\n",
       "    <tr>\n",
       "      <th>3</th>\n",
       "      <td>100</td>\n",
       "      <td>123</td>\n",
       "    </tr>\n",
       "    <tr>\n",
       "      <th>4</th>\n",
       "      <td>52</td>\n",
       "      <td>43</td>\n",
       "    </tr>\n",
       "    <tr>\n",
       "      <th>...</th>\n",
       "      <td>...</td>\n",
       "      <td>...</td>\n",
       "    </tr>\n",
       "    <tr>\n",
       "      <th>795</th>\n",
       "      <td>100</td>\n",
       "      <td>150</td>\n",
       "    </tr>\n",
       "    <tr>\n",
       "      <th>796</th>\n",
       "      <td>160</td>\n",
       "      <td>110</td>\n",
       "    </tr>\n",
       "    <tr>\n",
       "      <th>797</th>\n",
       "      <td>110</td>\n",
       "      <td>60</td>\n",
       "    </tr>\n",
       "    <tr>\n",
       "      <th>798</th>\n",
       "      <td>160</td>\n",
       "      <td>60</td>\n",
       "    </tr>\n",
       "    <tr>\n",
       "      <th>799</th>\n",
       "      <td>110</td>\n",
       "      <td>120</td>\n",
       "    </tr>\n",
       "  </tbody>\n",
       "</table>\n",
       "<p>800 rows × 2 columns</p>\n",
       "</div>"
      ],
      "text/plain": [
       "     Attack  Defense\n",
       "0        49       49\n",
       "1        62       63\n",
       "2        82       83\n",
       "3       100      123\n",
       "4        52       43\n",
       "..      ...      ...\n",
       "795     100      150\n",
       "796     160      110\n",
       "797     110       60\n",
       "798     160       60\n",
       "799     110      120\n",
       "\n",
       "[800 rows x 2 columns]"
      ]
     },
     "execution_count": 31,
     "metadata": {},
     "output_type": "execute_result"
    }
   ],
   "source": [
    "attack_vs_def = pokemon[['Attack', 'Defense']]\n",
    "attack_vs_def"
   ]
  },
  {
   "cell_type": "code",
   "execution_count": 32,
   "id": "057bbcc8",
   "metadata": {},
   "outputs": [
    {
     "name": "stderr",
     "output_type": "stream",
     "text": [
      "/var/folders/tk/75w8q4_s16n1_zv4jdmdlwhh0000gn/T/ipykernel_43411/1352146092.py:1: SettingWithCopyWarning: \n",
      "A value is trying to be set on a copy of a slice from a DataFrame.\n",
      "Try using .loc[row_indexer,col_indexer] = value instead\n",
      "\n",
      "See the caveats in the documentation: https://pandas.pydata.org/pandas-docs/stable/user_guide/indexing.html#returning-a-view-versus-a-copy\n",
      "  attack_vs_def['difference'] = attack_vs_def['Attack'] - attack_vs_def['Defense']\n"
     ]
    }
   ],
   "source": [
    "attack_vs_def['difference'] = attack_vs_def['Attack'] - attack_vs_def['Defense']"
   ]
  },
  {
   "cell_type": "code",
   "execution_count": 33,
   "id": "4cc73770",
   "metadata": {},
   "outputs": [
    {
     "data": {
      "text/html": [
       "<div>\n",
       "<style scoped>\n",
       "    .dataframe tbody tr th:only-of-type {\n",
       "        vertical-align: middle;\n",
       "    }\n",
       "\n",
       "    .dataframe tbody tr th {\n",
       "        vertical-align: top;\n",
       "    }\n",
       "\n",
       "    .dataframe thead th {\n",
       "        text-align: right;\n",
       "    }\n",
       "</style>\n",
       "<table border=\"1\" class=\"dataframe\">\n",
       "  <thead>\n",
       "    <tr style=\"text-align: right;\">\n",
       "      <th></th>\n",
       "      <th>Attack</th>\n",
       "      <th>Defense</th>\n",
       "      <th>difference</th>\n",
       "    </tr>\n",
       "  </thead>\n",
       "  <tbody>\n",
       "    <tr>\n",
       "      <th>758</th>\n",
       "      <td>52</td>\n",
       "      <td>67</td>\n",
       "      <td>-15</td>\n",
       "    </tr>\n",
       "    <tr>\n",
       "      <th>133</th>\n",
       "      <td>50</td>\n",
       "      <td>35</td>\n",
       "      <td>15</td>\n",
       "    </tr>\n",
       "    <tr>\n",
       "      <th>679</th>\n",
       "      <td>66</td>\n",
       "      <td>84</td>\n",
       "      <td>-18</td>\n",
       "    </tr>\n",
       "    <tr>\n",
       "      <th>641</th>\n",
       "      <td>44</td>\n",
       "      <td>50</td>\n",
       "      <td>-6</td>\n",
       "    </tr>\n",
       "    <tr>\n",
       "      <th>295</th>\n",
       "      <td>70</td>\n",
       "      <td>70</td>\n",
       "      <td>0</td>\n",
       "    </tr>\n",
       "  </tbody>\n",
       "</table>\n",
       "</div>"
      ],
      "text/plain": [
       "     Attack  Defense  difference\n",
       "758      52       67         -15\n",
       "133      50       35          15\n",
       "679      66       84         -18\n",
       "641      44       50          -6\n",
       "295      70       70           0"
      ]
     },
     "execution_count": 33,
     "metadata": {},
     "output_type": "execute_result"
    }
   ],
   "source": [
    "sample = attack_vs_def.sample(30)\n",
    "sample.head()"
   ]
  },
  {
   "cell_type": "code",
   "execution_count": 34,
   "id": "ce010141",
   "metadata": {},
   "outputs": [
    {
     "data": {
      "text/plain": [
       "(11.866666666666667, 35.396018998180296)"
      ]
     },
     "execution_count": 34,
     "metadata": {},
     "output_type": "execute_result"
    }
   ],
   "source": [
    "sample_diff_mean, sample_diff_std = sample['difference'].mean(), sample['difference'].std(ddof=1)\n",
    "sample_diff_mean, sample_diff_std"
   ]
  },
  {
   "cell_type": "code",
   "execution_count": 35,
   "id": "a71528e0",
   "metadata": {},
   "outputs": [
    {
     "name": "stdout",
     "output_type": "stream",
     "text": [
      "The mean of our samples differences is: 11.87\n",
      "The standard deviation of our samples differences is: 35.40\n",
      "Our t statistics is: 1.84\n"
     ]
    }
   ],
   "source": [
    "t = sample_diff_mean / ( sample_diff_std / np.sqrt(sample.shape[0]) )\n",
    "print(\"The mean of our samples differences is: {:.2f}\".format(sample_diff_mean))\n",
    "print(\"The standard deviation of our samples differences is: {:.2f}\".format(sample_diff_std))\n",
    "print(\"Our t statistics is: {:.2f}\".format(t))"
   ]
  },
  {
   "cell_type": "code",
   "execution_count": 37,
   "id": "05bb020a",
   "metadata": {},
   "outputs": [
    {
     "data": {
      "text/plain": [
       "2.045229642132703"
      ]
     },
     "execution_count": 37,
     "metadata": {},
     "output_type": "execute_result"
    }
   ],
   "source": [
    "tc = st.t.ppf(1-(0.05/2),df= sample.shape[0] - 1)\n",
    "tc"
   ]
  },
  {
   "cell_type": "markdown",
   "id": "3a23cd3d",
   "metadata": {},
   "source": [
    "The negative of our critical value is -2.05, and our t statistic is -1.84 --> -2.05 < -1.84 --> we accept H0.\n",
    "\n",
    "Let's try with p-value now"
   ]
  },
  {
   "cell_type": "code",
   "execution_count": 88,
   "id": "6d23f414",
   "metadata": {},
   "outputs": [
    {
     "data": {
      "text/plain": [
       "0.6028204268276361"
      ]
     },
     "execution_count": 88,
     "metadata": {},
     "output_type": "execute_result"
    }
   ],
   "source": [
    "st.t.cdf(t,df= sample.shape[0] - 1)"
   ]
  },
  {
   "cell_type": "markdown",
   "id": "08f1eee7",
   "metadata": {},
   "source": [
    "p-value > 0.025, so we accept H0"
   ]
  },
  {
   "cell_type": "markdown",
   "id": "2ce89bc6",
   "metadata": {},
   "source": [
    "# ANOVA"
   ]
  },
  {
   "cell_type": "markdown",
   "id": "f1665947",
   "metadata": {},
   "source": [
    "STEPS : Null hypothesis - Alternate hypothesis - Level of significance - Test statistic - P-value - F table"
   ]
  },
  {
   "cell_type": "code",
   "execution_count": 90,
   "id": "9d9e6415",
   "metadata": {},
   "outputs": [],
   "source": [
    "data = pd.read_excel('files_for_lab/anova_lab_data.xlsx')"
   ]
  },
  {
   "cell_type": "code",
   "execution_count": 91,
   "id": "68c87ea4",
   "metadata": {},
   "outputs": [
    {
     "data": {
      "text/html": [
       "<div>\n",
       "<style scoped>\n",
       "    .dataframe tbody tr th:only-of-type {\n",
       "        vertical-align: middle;\n",
       "    }\n",
       "\n",
       "    .dataframe tbody tr th {\n",
       "        vertical-align: top;\n",
       "    }\n",
       "\n",
       "    .dataframe thead th {\n",
       "        text-align: right;\n",
       "    }\n",
       "</style>\n",
       "<table border=\"1\" class=\"dataframe\">\n",
       "  <thead>\n",
       "    <tr style=\"text-align: right;\">\n",
       "      <th></th>\n",
       "      <th>Power</th>\n",
       "      <th>Etching Rate</th>\n",
       "    </tr>\n",
       "  </thead>\n",
       "  <tbody>\n",
       "    <tr>\n",
       "      <th>0</th>\n",
       "      <td>160 W</td>\n",
       "      <td>5.43</td>\n",
       "    </tr>\n",
       "    <tr>\n",
       "      <th>1</th>\n",
       "      <td>180 W</td>\n",
       "      <td>6.24</td>\n",
       "    </tr>\n",
       "    <tr>\n",
       "      <th>2</th>\n",
       "      <td>200 W</td>\n",
       "      <td>8.79</td>\n",
       "    </tr>\n",
       "    <tr>\n",
       "      <th>3</th>\n",
       "      <td>160 W</td>\n",
       "      <td>5.71</td>\n",
       "    </tr>\n",
       "    <tr>\n",
       "      <th>4</th>\n",
       "      <td>180 W</td>\n",
       "      <td>6.71</td>\n",
       "    </tr>\n",
       "  </tbody>\n",
       "</table>\n",
       "</div>"
      ],
      "text/plain": [
       "  Power   Etching Rate\n",
       "0  160 W          5.43\n",
       "1  180 W          6.24\n",
       "2  200 W          8.79\n",
       "3  160 W          5.71\n",
       "4  180 W          6.71"
      ]
     },
     "execution_count": 91,
     "metadata": {},
     "output_type": "execute_result"
    }
   ],
   "source": [
    "data.head()"
   ]
  },
  {
   "cell_type": "code",
   "execution_count": 92,
   "id": "84d4b9fa",
   "metadata": {},
   "outputs": [
    {
     "data": {
      "text/plain": [
       "Index(['Power ', 'Etching Rate'], dtype='object')"
      ]
     },
     "execution_count": 92,
     "metadata": {},
     "output_type": "execute_result"
    }
   ],
   "source": [
    "data.columns"
   ]
  },
  {
   "cell_type": "code",
   "execution_count": 93,
   "id": "65d52d28",
   "metadata": {},
   "outputs": [
    {
     "data": {
      "text/plain": [
       "(15, 2)"
      ]
     },
     "execution_count": 93,
     "metadata": {},
     "output_type": "execute_result"
    }
   ],
   "source": [
    "data.shape"
   ]
  },
  {
   "cell_type": "markdown",
   "id": "014eaeb8",
   "metadata": {},
   "source": [
    "The null hypothesis H0 is : 'mean etching rate for power of 160W = mean etching rate for power of 180W = mean etching rate for power of 200W'\n",
    "The alternative hypothesis H1 : they are different\n",
    "\n",
    "The significance level alpha = 0.95"
   ]
  },
  {
   "cell_type": "code",
   "execution_count": 94,
   "id": "a0454c65",
   "metadata": {},
   "outputs": [
    {
     "data": {
      "text/plain": [
       "14"
      ]
     },
     "execution_count": 94,
     "metadata": {},
     "output_type": "execute_result"
    }
   ],
   "source": [
    "# What are the degrees of freedom of model, error terms, and total DoF\n",
    "degree_freedom = len(data) - 1\n",
    "degree_freedom"
   ]
  },
  {
   "cell_type": "code",
   "execution_count": 95,
   "id": "18076eee",
   "metadata": {},
   "outputs": [
    {
     "data": {
      "text/plain": [
       "F_onewayResult(statistic=36.87895470100505, pvalue=7.506584272358903e-06)"
      ]
     },
     "execution_count": 95,
     "metadata": {},
     "output_type": "execute_result"
    }
   ],
   "source": [
    "st.f_oneway(data[data['Power '] == '160 W']['Etching Rate'],\n",
    "            data[data['Power '] == '180 W']['Etching Rate'],\n",
    "            data[data['Power '] == '200 W']['Etching Rate'])"
   ]
  },
  {
   "cell_type": "markdown",
   "id": "91d069d4",
   "metadata": {},
   "source": [
    "p-value < 0.05, we reject H0"
   ]
  },
  {
   "cell_type": "code",
   "execution_count": 96,
   "id": "907a0db5",
   "metadata": {},
   "outputs": [
    {
     "name": "stdout",
     "output_type": "stream",
     "text": [
      "The value of S2t is 9.09\n"
     ]
    }
   ],
   "source": [
    "# F Table\n",
    "S2t = 0\n",
    "for power in data['Power '].unique():\n",
    "    ng = len(data[data['Power '] == power])  \n",
    "    S2t  += ( ( data[data['Power '] == power]['Etching Rate'].mean() - data['Etching Rate'].mean() ) ** 2) * ng\n",
    "S2t /= ( data['Power '].nunique() - 1 )  \n",
    "print(\"The value of S2t is {:.2f}\".format(S2t)) "
   ]
  },
  {
   "cell_type": "code",
   "execution_count": 97,
   "id": "7970aa7b",
   "metadata": {},
   "outputs": [
    {
     "name": "stdout",
     "output_type": "stream",
     "text": [
      "\n",
      "The value of S2E is 0.25\n"
     ]
    }
   ],
   "source": [
    "S2E = 0\n",
    "for power in data['Power '].unique():\n",
    "    for rate in data[data['Power '] == power]['Etching Rate']:\n",
    "        S2E += ( rate - data[data['Power '] == power]['Etching Rate'].mean() ) ** 2\n",
    "S2E /= ( len(data) - data['Power '].nunique() ) \n",
    "\n",
    "print()\n",
    "print(\"The value of S2E is {:.2f}\".format(S2E))"
   ]
  },
  {
   "cell_type": "code",
   "execution_count": 98,
   "id": "2701ca4f",
   "metadata": {},
   "outputs": [
    {
     "name": "stdout",
     "output_type": "stream",
     "text": [
      "The value of F is 36.88\n"
     ]
    }
   ],
   "source": [
    "# Finally we can compute F\n",
    "F = S2t / S2E\n",
    "print(\"The value of F is {:.2f}\".format(F))"
   ]
  },
  {
   "cell_type": "markdown",
   "id": "bc3da220",
   "metadata": {},
   "source": [
    "It matches with the first formula giving us the statistic. Let's compute the critical value to cross-validate the p-value-based decision"
   ]
  },
  {
   "cell_type": "code",
   "execution_count": 101,
   "id": "2af0dc22",
   "metadata": {},
   "outputs": [
    {
     "data": {
      "text/plain": [
       "1.7613101357748562"
      ]
     },
     "execution_count": 101,
     "metadata": {},
     "output_type": "execute_result"
    }
   ],
   "source": [
    "st.t.ppf(0.95,df= data.shape[0] - 1)"
   ]
  },
  {
   "cell_type": "markdown",
   "id": "3c261b9b",
   "metadata": {},
   "source": [
    "F statistic > critical value --> we indeed reject the hypothesis H0"
   ]
  },
  {
   "cell_type": "code",
   "execution_count": null,
   "id": "c82ee2a6",
   "metadata": {},
   "outputs": [],
   "source": []
  }
 ],
 "metadata": {
  "kernelspec": {
   "display_name": "Python 3 (ipykernel)",
   "language": "python",
   "name": "python3"
  },
  "language_info": {
   "codemirror_mode": {
    "name": "ipython",
    "version": 3
   },
   "file_extension": ".py",
   "mimetype": "text/x-python",
   "name": "python",
   "nbconvert_exporter": "python",
   "pygments_lexer": "ipython3",
   "version": "3.9.7"
  }
 },
 "nbformat": 4,
 "nbformat_minor": 5
}
